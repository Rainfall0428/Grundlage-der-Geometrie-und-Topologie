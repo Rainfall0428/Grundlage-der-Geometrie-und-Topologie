{
 "cells": [
  {
   "cell_type": "markdown",
   "metadata": {},
   "source": [
    "# Error propagation\n",
    "\n",
    "## Tasks\n",
    "\n",
    "Solve the tasks below.\n",
    "For each task, give reasons for your solution by commenting in the notebook.\n",
    "In conclusion, summarize your findings and contextualize them. What have you learned? Do the results make sense?\n",
    "\n",
    "Your results will be examined for plagiarism. Please use your own plot styles, articulate your own thoughts, and present your own experimental approaches.\n",
    "\n",
    "a) Propagate uncertainties for the following expressions using [SymPy](https://www.sympy.org) following the examples for [uncorrelated variables](https://nbviewer.jupyter.org/urls/www.physi.uni-heidelberg.de/Einrichtungen/FP/Datenanalyse/FP_Gaussian_error_propagation.ipynb?flush_cache=false) and [correlated variables](https://nbviewer.jupyter.org/urls/www.physi.uni-heidelberg.de/Einrichtungen/FP/Datenanalyse/FP_Gaussian_error_propagation_corr.ipynb?flush_cache=false) from the FP web page.\n",
    "\n",
    "i) Find expressions for the absolute uncertainty $\\sigma_z$ for $z = x + y$ and $z = x - y$ \n",
    "\n",
    "ii) Find expressions for the relative uncertainty $\\sigma_z / z$ for $z = x \\cdot y, \\; z = x / y$ and $z = x^n y^n$\n",
    "\n",
    "iii) The acceleration of gravity with a simple pendulum is given by the following formula:\n",
    "$$g = 4  \\pi^2 \\frac{L}{T^2}$$\n",
    "The relevant variables are the length $L$ of the pendulum and the period $T$ with the corresponding errors $\\sigma_L$ and $\\sigma_T$.\n",
    "\n",
    "iv) The energy of a rotating object is given by:\n",
    "$$E = \\frac{1}{2} I \\omega^2$$\n",
    "The relevant variables are the angular velocity $\\omega$ and the moment of interia $I$ with the corresponding errors $\\sigma_\\omega$ and $\\sigma_I$.\n",
    "\n",
    "b) The radius $r$ and the height $h$ of a cylinder have been measured to $r = 5$ cm and $h = 2$ cm. The uncertainty for both measurements is $\\sigma = 0.1$ cm. Determine the volume of the cylinder and its uncertainty assuming (i) that both measurements are uncorrelated and (ii) that both measurements are fully correlated.\n",
    "\n",
    "c) The scattering angle and the radial distance of a certain particle can be determined from a position measurement $(x,y)$ \n",
    "$$r = \\sqrt{x^2 + y^2}, \\quad \\theta = \\mathrm{atan2}(y, x)$$\n",
    "You find more on the [atan2](https://en.wikipedia.org/wiki/Atan2) function on wikipedia. The position ($x$,$y$) is measured with the corresponding uncertainties $\\sigma_x$ and $\\sigma_y$. Write a python function that returns the covariance matrix $U$ of $r$ and $\\theta$ for a given covariance matrix $V$ of $x$ and $y$. Determine $U$ under the assumption that $x$ and $y$ are uncorrelated. Hint: The formulas you need can be found in the script.\n"
   ]
  },
  {
   "cell_type": "markdown",
   "metadata": {},
   "source": [
    "### Solution"
   ]
  },
  {
   "cell_type": "code",
   "execution_count": 2,
   "metadata": {},
   "outputs": [],
   "source": [
    "from sympy import *\n",
    "from IPython.display import display, Latex"
   ]
  },
  {
   "cell_type": "markdown",
   "metadata": {},
   "source": [
    "#### a) Gaussian Error Propagation of uncertainties for 2 uncorrelated variables"
   ]
  },
  {
   "cell_type": "code",
   "execution_count": 3,
   "metadata": {},
   "outputs": [],
   "source": [
    "def error_prop(f, vars):\n",
    "    \"\"\"\n",
    "    Symbolic Gaussian error propagation.\n",
    "    \n",
    "    Arguments:\n",
    "    f: formula (sympy expression)\n",
    "    vars: list of independent variables and corresponding uncertainties [(x1, sigma_x1), (x2, sigma_x2), ...]\n",
    "    \n",
    "    return value: sympy expression for the uncertainty of the calculated expression f\n",
    "    \n",
    "    \"\"\"\n",
    "    sum = S(0) # empty SymPy expression\n",
    "    for (x, sigma) in vars:\n",
    "        sum += diff(f, x)**2 * sigma**2       #Addition of partial deviations * each standard deviation\n",
    "    return sqrt(simplify(sum))"
   ]
  },
  {
   "cell_type": "markdown",
   "metadata": {},
   "source": [
    "i) $z=x+y$, $\\sigma_z=\\sqrt{(\\sigma_x)^2+(\\sigma_y)^2}$"
   ]
  },
  {
   "cell_type": "code",
   "execution_count": 6,
   "metadata": {},
   "outputs": [
    {
     "data": {
      "text/latex": [
       "$$\\sigma_z = \\sqrt{\\sigma_{x}^{2} + \\sigma_{y}^{2}}$$"
      ],
      "text/plain": [
       "<IPython.core.display.Latex object>"
      ]
     },
     "metadata": {},
     "output_type": "display_data"
    }
   ],
   "source": [
    "x, y, sigma_x, sigma_y=symbols('x, y, sigma_x, sigma_y', positive=True)  # Define sympy symbols and formula for the z\n",
    "z=x+y\n",
    "\n",
    "sigma_z = error_prop(z, [(x, sigma_x), (y, sigma_y)])                    # Determine expression for the uncertainty \\sigma_z from Gaussian error propagation\n",
    "result = \"$${} = {}$$\".format(\"\\\\sigma_z\", latex(sigma_z))\n",
    "display(Latex(result))"
   ]
  },
  {
   "cell_type": "markdown",
   "metadata": {},
   "source": [
    "ii) find relative uncertainty $\\sigma_z/z$ for $z=xy$, $z=x/y$, $z=x^ny^n$"
   ]
  },
  {
   "cell_type": "code",
   "execution_count": 9,
   "metadata": {},
   "outputs": [
    {
     "data": {
      "text/latex": [
       "$$\\sigma_z/z = \\frac{\\sqrt{\\sigma_{x}^{2} y^{2} + \\sigma_{y}^{2} x^{2}}}{x y}$$"
      ],
      "text/plain": [
       "<IPython.core.display.Latex object>"
      ]
     },
     "metadata": {},
     "output_type": "display_data"
    }
   ],
   "source": [
    "x, y, sigma_x, sigma_y=symbols('x, y, sigma_x, sigma_y', positive=True) \n",
    "z=x*y\n",
    "\n",
    "sigma_z = error_prop(z, [(x, sigma_x), (y, sigma_y)]) \n",
    "result = \"$${} = {}$$\".format(\"\\\\sigma_z/z\", latex(sigma_z/z))\n",
    "display(Latex(result))"
   ]
  },
  {
   "cell_type": "code",
   "execution_count": 10,
   "metadata": {},
   "outputs": [
    {
     "data": {
      "text/latex": [
       "$$\\sigma_z/z = \\frac{\\sqrt{\\sigma_{x}^{2} y^{2} + \\sigma_{y}^{2} x^{2}}}{x y}$$"
      ],
      "text/plain": [
       "<IPython.core.display.Latex object>"
      ]
     },
     "metadata": {},
     "output_type": "display_data"
    }
   ],
   "source": [
    "x, y, sigma_x, sigma_y=symbols('x, y, sigma_x, sigma_y', positive=True) \n",
    "z=x/y\n",
    "\n",
    "sigma_z = error_prop(z, [(x, sigma_x), (y, sigma_y)]) \n",
    "result = \"$${} = {}$$\".format(\"\\\\sigma_z/z\", latex(sigma_z/z))\n",
    "display(Latex(result))"
   ]
  },
  {
   "cell_type": "code",
   "execution_count": 11,
   "metadata": {},
   "outputs": [
    {
     "data": {
      "text/latex": [
       "$$\\sigma_z/z = n x^{- n} y^{- n} \\left(x y\\right)^{n - 1} \\sqrt{\\sigma_{x}^{2} y^{2} + \\sigma_{y}^{2} x^{2}}$$"
      ],
      "text/plain": [
       "<IPython.core.display.Latex object>"
      ]
     },
     "metadata": {},
     "output_type": "display_data"
    }
   ],
   "source": [
    "n, x, y, sigma_x, sigma_y=symbols('n, x, y, sigma_x, sigma_y', positive=True)\n",
    "z=x**n*y**n\n",
    "\n",
    "sigma_z = error_prop(z, [(x, sigma_x), (y, sigma_y)]) \n",
    "result = \"$${} = {}$$\".format(\"\\\\sigma_z/z\", latex(sigma_z/z))\n",
    "display(Latex(result))"
   ]
  },
  {
   "cell_type": "markdown",
   "metadata": {},
   "source": [
    "iii) $g = 4  \\pi^2 \\frac{L}{T^2}$ with $\\sigma_L$, $\\sigma_T$"
   ]
  },
  {
   "cell_type": "code",
   "execution_count": 19,
   "metadata": {},
   "outputs": [
    {
     "data": {
      "text/latex": [
       "$$\\sigma_g = \\frac{4 \\pi^{2} \\sqrt{4 L^{2} \\sigma_{T}^{2} + T^{2} \\sigma_{L}^{2}}}{T^{3}}$$"
      ],
      "text/plain": [
       "<IPython.core.display.Latex object>"
      ]
     },
     "metadata": {},
     "output_type": "display_data"
    }
   ],
   "source": [
    "import numpy as np\n",
    "pi, L, T, sigma_L, sigma_T=symbols('pi, L, T, sigma_L, sigma_T', positive=True)\n",
    "g=4*pi**2*L/T**2\n",
    "\n",
    "sigma_g = error_prop(g, [(L, sigma_L), (T, sigma_T)]) \n",
    "result = \"$${} = {}$$\".format(\"\\\\sigma_g\", latex(sigma_g))\n",
    "display(Latex(result))"
   ]
  },
  {
   "cell_type": "markdown",
   "metadata": {},
   "source": [
    "iv) $E = \\frac{1}{2} I \\omega^2$ with $\\sigma_I$, $\\sigma_\\omega$"
   ]
  },
  {
   "cell_type": "code",
   "execution_count": 18,
   "metadata": {},
   "outputs": [
    {
     "data": {
      "text/latex": [
       "$$\\sigma_E = \\frac{w \\sqrt{4 I^{2} \\sigma_{w}^{2} + \\sigma_{I}^{2} w^{2}}}{2}$$"
      ],
      "text/plain": [
       "<IPython.core.display.Latex object>"
      ]
     },
     "metadata": {},
     "output_type": "display_data"
    }
   ],
   "source": [
    "I, w, sigma_I, sigma_w=symbols('I, w, sigma_I, sigma_w', positive=True)\n",
    "E0=I*w**2\n",
    "\n",
    "sigma_E0 = error_prop(E0, [(I, sigma_I), (w, sigma_w)]) \n",
    "result = \"$${} = {}$$\".format(\"\\\\sigma_E\", latex(sigma_E0/2))\n",
    "display(Latex(result))"
   ]
  },
  {
   "cell_type": "markdown",
   "metadata": {},
   "source": [
    "#### Gaussian Error Propagation of uncertainties for 2 correlated variables"
   ]
  },
  {
   "cell_type": "code",
   "execution_count": 4,
   "metadata": {},
   "outputs": [],
   "source": [
    "def error_prop_corr(f, x, V):\n",
    "    \"\"\"\n",
    "    f: function f = f(x[0], x[1], ...)\n",
    "    x: list of variables\n",
    "    V: covariance matrix (python 2d list)\n",
    "    \"\"\"\n",
    "    sum = S(0) # empty sympy expression\n",
    "    for i in range(len(x)):\n",
    "        for j in range(len(x)):\n",
    "            sum += diff(f, x[i]) * diff(f, x[j]) * V[i][j] \n",
    "    return sqrt(simplify(sum))"
   ]
  },
  {
   "cell_type": "markdown",
   "metadata": {},
   "source": [
    "i) $z=x+y$"
   ]
  },
  {
   "cell_type": "code",
   "execution_count": 33,
   "metadata": {},
   "outputs": [
    {
     "data": {
      "text/latex": [
       "$\\displaystyle \\sqrt{2 \\rho \\sigma_{x} \\sigma_{y} + \\sigma_{x}^{2} + \\sigma_{y}^{2}}$"
      ],
      "text/plain": [
       "sqrt(2*rho*sigma_x*sigma_y + sigma_x**2 + sigma_y**2)"
      ]
     },
     "execution_count": 33,
     "metadata": {},
     "output_type": "execute_result"
    }
   ],
   "source": [
    "x, y, sigma_x, sigma_y = symbols('x, y, sigma_x, sigma_y', positive=True)\n",
    "rho = Symbol(\"rho\", real=True)\n",
    "\n",
    "# covariance matrix\n",
    "C = [[sigma_x**2, rho * sigma_x * sigma_y], [rho * sigma_x * sigma_y, sigma_y**2]]\n",
    "\n",
    "z = x + y\n",
    "vars = [x, y]    #list of variables\n",
    "sigma_z = error_prop_corr(z, vars, C)\n",
    "sigma_z"
   ]
  },
  {
   "cell_type": "markdown",
   "metadata": {},
   "source": [
    "ii) $\\sigma_z/z$ for $z=xy$, $z=x/y$, $z=x^ny^n$"
   ]
  },
  {
   "cell_type": "code",
   "execution_count": 35,
   "metadata": {},
   "outputs": [
    {
     "data": {
      "text/latex": [
       "$\\displaystyle \\frac{\\sqrt{2 \\rho \\sigma_{x} \\sigma_{y} x y + \\sigma_{x}^{2} y^{2} + \\sigma_{y}^{2} x^{2}}}{x y}$"
      ],
      "text/plain": [
       "sqrt(2*rho*sigma_x*sigma_y*x*y + sigma_x**2*y**2 + sigma_y**2*x**2)/(x*y)"
      ]
     },
     "execution_count": 35,
     "metadata": {},
     "output_type": "execute_result"
    }
   ],
   "source": [
    "x, y, sigma_x, sigma_y = symbols('x, y, sigma_x, sigma_y', positive=True)\n",
    "z1 = x*y\n",
    "z2=x/y\n",
    "vars = [x, y]\n",
    "sigma_z1 = error_prop_corr(z1, vars, C) / z1\n",
    "sigma_z1"
   ]
  },
  {
   "cell_type": "code",
   "execution_count": 36,
   "metadata": {},
   "outputs": [
    {
     "data": {
      "text/latex": [
       "$\\displaystyle \\frac{\\sqrt{- 2 \\rho \\sigma_{x} \\sigma_{y} x y + \\sigma_{x}^{2} y^{2} + \\sigma_{y}^{2} x^{2}}}{x y}$"
      ],
      "text/plain": [
       "sqrt(-2*rho*sigma_x*sigma_y*x*y + sigma_x**2*y**2 + sigma_y**2*x**2)/(x*y)"
      ]
     },
     "execution_count": 36,
     "metadata": {},
     "output_type": "execute_result"
    }
   ],
   "source": [
    "sigma_z2 = error_prop_corr(z2, vars, C) / z2\n",
    "sigma_z2"
   ]
  },
  {
   "cell_type": "code",
   "execution_count": 37,
   "metadata": {},
   "outputs": [
    {
     "data": {
      "text/latex": [
       "$\\displaystyle n x^{- n} y^{- n} \\sqrt{\\left(x y\\right)^{2 n - 2} \\cdot \\left(2 \\rho \\sigma_{x} \\sigma_{y} x y + \\sigma_{x}^{2} y^{2} + \\sigma_{y}^{2} x^{2}\\right)}$"
      ],
      "text/plain": [
       "n*sqrt((x*y)**(2*n - 2)*(2*rho*sigma_x*sigma_y*x*y + sigma_x**2*y**2 + sigma_y**2*x**2))/(x**n*y**n)"
      ]
     },
     "execution_count": 37,
     "metadata": {},
     "output_type": "execute_result"
    }
   ],
   "source": [
    "n, x, y, sigma_x, sigma_y = symbols('n, x, y, sigma_x, sigma_y', positive=True)\n",
    "z3=x**n*y**n\n",
    "vars = [x, y]\n",
    "sigma_z3 = error_prop_corr(z3, vars, C) / z3\n",
    "sigma_z3"
   ]
  },
  {
   "cell_type": "markdown",
   "metadata": {},
   "source": [
    "iii) $g = 4  \\pi^2 \\frac{L}{T^2}$ with $\\sigma_L$, $\\sigma_T$"
   ]
  },
  {
   "cell_type": "code",
   "execution_count": 38,
   "metadata": {},
   "outputs": [
    {
     "data": {
      "text/latex": [
       "$\\displaystyle \\frac{4 \\pi^{2} \\sqrt{4 L^{2} \\sigma_{T}^{2} - 4 L T \\rho \\sigma_{L} \\sigma_{T} + T^{2} \\sigma_{L}^{2}}}{T^{3}}$"
      ],
      "text/plain": [
       "4*pi**2*sqrt(4*L**2*sigma_T**2 - 4*L*T*rho*sigma_L*sigma_T + T**2*sigma_L**2)/T**3"
      ]
     },
     "execution_count": 38,
     "metadata": {},
     "output_type": "execute_result"
    }
   ],
   "source": [
    "pi, L, T, sigma_L, sigma_T = symbols('pi, L, T, sigma_L, sigma_T', positive=True)\n",
    "rho = Symbol(\"rho\", real=True)\n",
    "C = [[sigma_L**2, rho * sigma_L * sigma_T], [rho * sigma_L * sigma_T, sigma_T**2]]\n",
    "\n",
    "g = 4*pi**2*L/T**2\n",
    "vars = [L, T] \n",
    "sigma_g = error_prop_corr(g, vars, C)\n",
    "sigma_g"
   ]
  },
  {
   "cell_type": "markdown",
   "metadata": {},
   "source": [
    "iv) $E = \\frac{1}{2} I \\omega^2$ with $\\sigma_I$, $\\sigma_\\omega$"
   ]
  },
  {
   "cell_type": "code",
   "execution_count": 39,
   "metadata": {},
   "outputs": [
    {
     "data": {
      "text/latex": [
       "$\\displaystyle w \\sqrt{I^{2} \\sigma_{w}^{2} + I \\rho \\sigma_{I} \\sigma_{w} w + \\frac{\\sigma_{I}^{2} w^{2}}{4}}$"
      ],
      "text/plain": [
       "w*sqrt(I**2*sigma_w**2 + I*rho*sigma_I*sigma_w*w + sigma_I**2*w**2/4)"
      ]
     },
     "execution_count": 39,
     "metadata": {},
     "output_type": "execute_result"
    }
   ],
   "source": [
    "I, w, sigma_I, sigma_w = symbols('I, w, sigma_I, sigma_w', positive=True)\n",
    "rho = Symbol(\"rho\", real=True)\n",
    "C = [[sigma_I**2, rho * sigma_I * sigma_w], [rho * sigma_I * sigma_w, sigma_w**2]]\n",
    "E=I*w**2/2\n",
    "vars = [I, w]\n",
    "sigma_E = error_prop_corr(E, vars, C)\n",
    "sigma_E"
   ]
  },
  {
   "cell_type": "markdown",
   "metadata": {},
   "source": [
    "b) The radius $r$ and the height $h$ of a cylinder have been measured to $r = 5$ cm and $h = 2$ cm. The uncertainty for both measurements is $\\sigma = 0.1$ cm. Determine the volume of the cylinder and its uncertainty assuming (i) that both measurements are uncorrelated and (ii) that both measurements are fully correlated.\n"
   ]
  },
  {
   "cell_type": "code",
   "execution_count": 40,
   "metadata": {},
   "outputs": [],
   "source": [
    "r_meas = 5   # in cm \n",
    "sigma_r_meas = 0.1\n",
    "h_meas = 2\n",
    "sigma_h_meas = 0.1"
   ]
  },
  {
   "cell_type": "code",
   "execution_count": 57,
   "metadata": {},
   "outputs": [
    {
     "data": {
      "text/latex": [
       "$$V = h \\pi r^{2}$$"
      ],
      "text/plain": [
       "<IPython.core.display.Latex object>"
      ]
     },
     "metadata": {},
     "output_type": "display_data"
    },
    {
     "data": {
      "text/latex": [
       "$$\\sigma_V = \\pi r \\sqrt{4 h^{2} \\sigma_{r}^{2} + r^{2} \\sigma_{h}^{2}}$$"
      ],
      "text/plain": [
       "<IPython.core.display.Latex object>"
      ]
     },
     "metadata": {},
     "output_type": "display_data"
    },
    {
     "data": {
      "text/latex": [
       "$$V= (157.1 \\pm 10.1) \\, \\mathrm{cm}^3$$"
      ],
      "text/plain": [
       "<IPython.core.display.Latex object>"
      ]
     },
     "metadata": {},
     "output_type": "display_data"
    }
   ],
   "source": [
    "# both measurements are uncorrelated\n",
    "r, h, sigma_r, sigma_h = symbols('r, h, sigma_r, sigma_h', positive=True)\n",
    "V = pi * r**2 * h\n",
    "sigma_V = error_prop(V, [(r, sigma_r), (h, sigma_h)])\n",
    "fehler = \"$${} = {}$$\".format(\"\\\\sigma_V\", latex(sigma_V))\n",
    "volume = f\"$$V = {latex(V)}$$\"\n",
    "display(Latex(volume))\n",
    "display(Latex(fehler))\n",
    "\n",
    "V = np.pi * r**2 * h                                          # V, sigma_V überschreiben damit symbolische Ausdrücke in Gleitkommazahlen gesetzt werden\n",
    "sigma_V = error_prop(V, [(r, sigma_r), (h, sigma_h)])\n",
    "                                                              # Die Methode .evalf() konvertiert einen symbolischen Ausdruck in einen numerischen Wert (Floating Point)\n",
    "central_value = V.subs([(r,r_meas), (h, h_meas)]).evalf()     # .sub benutzen um symbolische Variablen durch konkrete Werte zu ersetzen\n",
    "sigma = sigma_V.subs([(r, r_meas), (sigma_r, sigma_r_meas), (h, h_meas), (sigma_h, sigma_h_meas)]).evalf()\n",
    "result = f\"$$V= ({central_value:.1f} \\\\pm {sigma:.1f}) \\\\, \\\\mathrm{{cm}}^3$$\"    # :1f 1. Dezimalstelle\n",
    "display(Latex(result))"
   ]
  },
  {
   "cell_type": "code",
   "execution_count": 55,
   "metadata": {},
   "outputs": [
    {
     "data": {
      "text/latex": [
       "$$V = h \\pi r^{2}$$"
      ],
      "text/plain": [
       "<IPython.core.display.Latex object>"
      ]
     },
     "metadata": {},
     "output_type": "display_data"
    },
    {
     "data": {
      "text/latex": [
       "$$\\sigma_V = \\pi r \\sqrt{4 h^{2} \\sigma_{r}^{2} + 4 h r \\rho \\sigma_{h} \\sigma_{r} + r^{2} \\sigma_{h}^{2}}$$"
      ],
      "text/plain": [
       "<IPython.core.display.Latex object>"
      ]
     },
     "metadata": {},
     "output_type": "display_data"
    },
    {
     "data": {
      "text/latex": [
       "$$V = (157.1 \\pm 14.1) \\, \\mathrm{cm}^3$$"
      ],
      "text/plain": [
       "<IPython.core.display.Latex object>"
      ]
     },
     "metadata": {},
     "output_type": "display_data"
    }
   ],
   "source": [
    "# both measurements are correlated\n",
    "r, h, sigma_r, sigma_h = symbols('r, h, sigma_r, sigma_h', positive=True)\n",
    "V = pi * r**2 * h\n",
    "volume = f\"$$V = {latex(V)}$$\"\n",
    "display(Latex(volume))\n",
    "rho = Symbol(\"rho\", real=True)\n",
    "C = [[sigma_r**2, rho * sigma_r * sigma_h], [rho * sigma_r * sigma_h, sigma_h**2]]\n",
    "vars = [r, h]\n",
    "sigma_V = error_prop_corr(V, vars, C)\n",
    "fehler = \"$${} = {}$$\".format(\"\\\\sigma_V\", latex(sigma_V))\n",
    "display(Latex(fehler))\n",
    "\n",
    "V = np.pi * r**2 * h                                          \n",
    "sigma_V = error_prop_corr(V, vars, C)\n",
    "rho0=1         # fully correlated \\rho=1\n",
    "central_value = V.subs([(r,r_meas), (h, h_meas)]).evalf()     \n",
    "sigma = sigma_V.subs([(r, r_meas), (sigma_r, sigma_r_meas), (h, h_meas), (sigma_h, sigma_h_meas), (rho, rho0)]).evalf()   #ersetze rho in rho0\n",
    "result = f\"$$V = ({central_value:.1f} \\\\pm {sigma:.1f}) \\\\, \\\\mathrm{{cm}}^3$$\"    \n",
    "display(Latex(result))"
   ]
  },
  {
   "cell_type": "markdown",
   "metadata": {},
   "source": [
    "c) $r = \\sqrt{x^2 + y^2}, \\quad \\theta = \\mathrm{atan2}(y, x)=\\mathrm{arctan}(y/x)$. The position ($x$,$y$) is measured with the corresponding uncertainties $\\sigma_x$ and $\\sigma_y$. Write a python function that returns the covariance matrix $U$ of $r$ and $\\theta$ for a given covariance matrix $V$ of $x$ and $y$. Determine $U$ under the assumption that $x$ and $y$ are uncorrelated. Hint: The formulas you need can be found in the script."
   ]
  },
  {
   "cell_type": "markdown",
   "metadata": {},
   "source": [
    "For $\\vec{y}=(r, \\theta)=:(f_1, f_2)$, $\\vec{x}=(x,y)=:(x_1,x_2)$ as in script, $G_{ki}:=\\frac{\\delta f_k}{\\delta x_i}$ Jacobi matrix, C the covariance matrix of $\\vec{x}$\n",
    "$$\\mathbf{C}=\\left(\\begin{array}{cc}  \n",
    "\t\\sigma_x^2 & \\text{cov}(x,y)\\\\\n",
    "\t\\text{cov}(x,y) & \\sigma_y^2\n",
    "\t\\end{array}\\right) = \\left(\\begin{array}{cc}  \n",
    "\t\\sigma_x^2 & \\rho \\sigma_x\\sigma_y\\\\\n",
    "\t\\rho \\sigma_x\\sigma_y & \\sigma_y^2\n",
    "\t\\end{array}\\right) \\qquad \\mathbf{G}=\\left(\\begin{array}{cc}  \n",
    "\tx/r & y/r\\\\\n",
    "\t-y/r^2 & x/r^2\n",
    "\t\\end{array}\\right)$$\n",
    "The covariance matrix of U of $r$ and $\\theta$ is given by: $U=G \\cdot C \\cdot G^T$"
   ]
  },
  {
   "cell_type": "code",
   "execution_count": 78,
   "metadata": {},
   "outputs": [],
   "source": [
    "#r=np.sqrt(x**2+y**2)\n",
    "#o=np.arctan(y/x)\n",
    "def covariance_matrix_of_U(x, y, sigma_x, sigma_y, rho):\n",
    "    r=np.sqrt(x**2+y**2)\n",
    "    C = np.array([[sigma_x**2, rho*sigma_x*sigma_y], \n",
    "                  [rho*sigma_x*sigma_y, sigma_y**2]])         # covariance matrix J\n",
    "    G=np.array([[x/r, y/r], \n",
    "                [-y/r**2, x/r**2]])          # Jacobi-Matrix\n",
    "    U = G @ C @ G.T      # covariance matrix U\n",
    "\n",
    "    return U"
   ]
  },
  {
   "cell_type": "markdown",
   "metadata": {},
   "source": [
    "Test"
   ]
  },
  {
   "cell_type": "code",
   "execution_count": 83,
   "metadata": {},
   "outputs": [
    {
     "name": "stdout",
     "output_type": "stream",
     "text": [
      "[[ 1.96e-02 -5.60e-04]\n",
      " [-5.60e-04  1.60e-05]]\n"
     ]
    }
   ],
   "source": [
    "x = 3.0 \n",
    "y = 4.0\n",
    "sigma_x=0.1\n",
    "sigma_y=0.1\n",
    "rho=1\n",
    "\n",
    "U = covariance_matrix_of_U(x, y,sigma_x, sigma_y, rho)\n",
    "print(U)\n"
   ]
  },
  {
   "cell_type": "markdown",
   "metadata": {},
   "source": [
    "if x, y are uncorrelated: $\\rho=0$:"
   ]
  },
  {
   "cell_type": "code",
   "execution_count": 82,
   "metadata": {},
   "outputs": [
    {
     "name": "stdout",
     "output_type": "stream",
     "text": [
      "[[1.00000000e-02 5.98826544e-20]\n",
      " [9.92261828e-21 4.00000000e-04]]\n"
     ]
    }
   ],
   "source": [
    "x = 3.0 \n",
    "y = 4.0\n",
    "sigma_x=0.1\n",
    "sigma_y=0.1\n",
    "rho=0\n",
    "              \n",
    "U = covariance_matrix_of_U(x, y,sigma_x, sigma_y, rho)\n",
    "print(U)"
   ]
  },
  {
   "cell_type": "code",
   "execution_count": null,
   "metadata": {},
   "outputs": [],
   "source": []
  }
 ],
 "metadata": {
  "kernelspec": {
   "display_name": "Python 3 (ipykernel)",
   "language": "python",
   "name": "python3"
  },
  "language_info": {
   "codemirror_mode": {
    "name": "ipython",
    "version": 3
   },
   "file_extension": ".py",
   "mimetype": "text/x-python",
   "name": "python",
   "nbconvert_exporter": "python",
   "pygments_lexer": "ipython3",
   "version": "3.12.0"
  }
 },
 "nbformat": 4,
 "nbformat_minor": 4
}
