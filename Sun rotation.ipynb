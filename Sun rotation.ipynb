{
 "cells": [
  {
   "cell_type": "code",
   "execution_count": 1,
   "metadata": {},
   "outputs": [],
   "source": [
    "import numpy as np\n",
    "import matplotlib.pyplot as plt\n",
    "from scipy.optimize import curve_fit"
   ]
  },
  {
   "cell_type": "code",
   "execution_count": 2,
   "metadata": {},
   "outputs": [
    {
     "name": "stdout",
     "output_type": "stream",
     "text": [
      "latitude theta= -0.08402958680100776 [rad] velocity= 0.21361651536112383 [rad/day] Period= 29.413387333641836 days\n",
      "latitude theta= -0.06731661238483233 [rad] velocity= 0.23461164261037395 [rad/day] Period= 26.781216981691934 days\n",
      "latitude theta= -0.45443134415881026 [rad] velocity= 0.209244145101444 [rad/day] Period= 30.02801012249793 days\n",
      "latitude theta= -0.4421955087406262 [rad] velocity= 0.21497446734084372 [rad/day] Period= 29.227588675531155 days\n"
     ]
    }
   ],
   "source": [
    "def pixel_to_latitude_longitude(x,y,X,Y,R):\n",
    "    theta=np.arcsin((y-Y)/R)\n",
    "    a=np.cos(theta)*R\n",
    "    phi=np.arcsin((x-X)/a)\n",
    "    return np.array([theta, phi])\n",
    "\n",
    "def longitude_velocity_in_latitude(x1,y1,X1,Y1,R1,x2,y2,X2,Y2,R2,th1,tm1,ts1,th2,tm2,ts2):\n",
    "    dt=abs(th1-th2)*3600+abs(tm1-tm2)*60+abs(ts1-ts2)    # in s\n",
    "    latitude=(pixel_to_latitude_longitude(x1,y1,X1,Y1,R1)[0]+pixel_to_latitude_longitude(x2,y2,X2,Y2,R2)[0])/2    # theta mean print\n",
    "    d_longitude=abs(pixel_to_latitude_longitude(x1,y1,X1,Y1,R1)[1]-pixel_to_latitude_longitude(x2,y2,X2,Y2,R2)[1])\n",
    "    velocity=d_longitude/dt\n",
    "    P_synodic=2*np.pi/(velocity*86400)\n",
    "    print('latitude theta=', latitude, '[rad] velocity=', velocity*86400, '[rad/day] Period=', P_synodic,'days')\n",
    "\n",
    "#pixel_to_latitude_longitude(63.0391,467.4766,512.7229,511.9710,495.6804)\n",
    "#pixel_to_latitude_longitude(99.7969,473.2656,512.5945,511.9751,495.6764)\n",
    "longitude_velocity_in_latitude(63.0391,467.4766,512.7229,511.9710,495.6804,  99.7969,473.2656,512.5945,511.9751,495.6764,  23,59,32,6,23,32)\n",
    "longitude_velocity_in_latitude(804.2656,479.8594,512.8961,511.9731,495.5756,840.2813,477.4063,512.8644,511.9624,495.5676,6,23,32,15,59,32)\n",
    "longitude_velocity_in_latitude(216.6875,293.3125,512.7317,511.6197,496.3736,250.1484,294.1641,512.7270,511.6342,496.3957,4,51,1,15,59,31)\n",
    "longitude_velocity_in_latitude(811.1875,300.3125,512.7383,511.6251,496.6172,855.3047,297.8984,512.7364,511.6225,496.6371,7,58,32,23,59,32)\n"
   ]
  },
  {
   "cell_type": "markdown",
   "metadata": {},
   "source": [
    "$$\\frac{1}{P_{synodic}}=\\frac{1}{P_{sideral}}-\\frac{1}{365.25}$$"
   ]
  },
  {
   "cell_type": "code",
   "execution_count": 3,
   "metadata": {},
   "outputs": [
    {
     "name": "stdout",
     "output_type": "stream",
     "text": [
      "sideral rotation periode: 27.221272781836547 days\n",
      "sideral rotation periode: 24.951685169040495 days\n",
      "sideral rotation periode: 27.746877934958825 days\n",
      "sideral rotation periode: 27.062061496524077 days\n"
     ]
    }
   ],
   "source": [
    "def sideral(P_syndioc):\n",
    "    print('sideral rotation periode:', 1/((1/365.25)+(1/P_syndioc)), 'days') \n",
    "\n",
    "sideral(29.413387333641836)\n",
    "sideral(26.781216981691934 )\n",
    "sideral(30.02801012249793 )\n",
    "sideral(29.227588675531155 )"
   ]
  },
  {
   "cell_type": "code",
   "execution_count": null,
   "metadata": {},
   "outputs": [],
   "source": []
  }
 ],
 "metadata": {
  "kernelspec": {
   "display_name": "Python 3",
   "language": "python",
   "name": "python3"
  },
  "language_info": {
   "codemirror_mode": {
    "name": "ipython",
    "version": 3
   },
   "file_extension": ".py",
   "mimetype": "text/x-python",
   "name": "python",
   "nbconvert_exporter": "python",
   "pygments_lexer": "ipython3",
   "version": "3.12.0"
  }
 },
 "nbformat": 4,
 "nbformat_minor": 2
}
