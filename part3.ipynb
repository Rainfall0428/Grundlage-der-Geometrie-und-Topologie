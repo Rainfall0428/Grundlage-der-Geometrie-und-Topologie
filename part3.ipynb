{
 "cells": [
  {
   "cell_type": "markdown",
   "id": "aba48af9886c206c",
   "metadata": {},
   "source": [
    "# Part 3 - Advanced Machine Learning\n",
    "In part one we achieved around 67% accuracy on GalaxyMNIST using a kNN-classifier. Ultimately our goal is to get the highest possible score on GalaxyMNIST which can most likely be achieved using Convolutional Neural Networks. It is good practice to compare against simple baselines when developing more complex models. In this notebook, we will start with simple non-neural network classifiers and then move on to fully connected and convolutional neural networks."
   ]
  },
  {
   "cell_type": "code",
   "execution_count": 1,
   "id": "5423882144594344",
   "metadata": {
    "ExecuteTime": {
     "end_time": "2025-05-06T15:50:26.793491Z",
     "start_time": "2025-05-06T15:50:24.589840Z"
    }
   },
   "outputs": [],
   "source": [
    "from pathlib import Path\n",
    "import matplotlib.pyplot as plt\n",
    "import numpy as np\n",
    "import urllib\n",
    "import shutil\n",
    "import torch\n",
    "import gzip\n",
    "from sklearn.metrics import classification_report, confusion_matrix, ConfusionMatrixDisplay\n",
    "\n",
    "try:\n",
    "    from galaxy_mnist import GalaxyMNIST\n",
    "except ImportError:\n",
    "    !pip install git+https://github.com/mwalmsley/galaxy_mnist.git\n",
    "    from galaxy_mnist import GalaxyMNIST\n",
    "\n",
    "download_data = [{\"url\":\"https://www.dropbox.com/scl/fi/l4ap5eq7z49l27dnfw076/train_dataset.hdf5.gz?rlkey=gjfrrrouoah0hbydbkpfx66as&st=tw6znd55&dl=1\", \"zipfile\": \"train_dataset.hdf5.gz\", \"file\": \"train_dataset.hdf5\"},\n",
    "{\"url\": \"https://www.dropbox.com/scl/fi/ty43vhrrpa8cf8azn3awn/test_dataset.hdf5.gz?rlkey=jmlkzjiguhe271nbuzpa0njna&st=5oco8ika&dl=1\", \"zipfile\": \"test_dataset.hdf5.gz\",\"file\": \"test_dataset.hdf5\"}]\n",
    "\n",
    "root_folder = Path(\"raw_galaxy_mnist\")\n",
    "download_folder = root_folder / \"GalaxyMNIST\" / \"raw\"\n",
    "download_folder.mkdir(parents=True, exist_ok=True)\n",
    "for info in download_data:\n",
    "    if not (download_folder / info[\"file\"]).exists(): # Check if data exists, if not download and unpack\n",
    "        urllib.request.urlretrieve(info[\"url\"], download_folder / info[\"zipfile\"])\n",
    "        with gzip.open(download_folder / info[\"zipfile\"], 'rb') as f_in:\n",
    "            with open(download_folder / info[\"file\"], 'wb') as f_out:\n",
    "                shutil.copyfileobj(f_in, f_out)\n",
    "\n",
    "dataset = GalaxyMNIST(root=root_folder, train=True)\n",
    "val_dataset = GalaxyMNIST(root=root_folder, train=False)"
   ]
  },
  {
   "cell_type": "code",
   "execution_count": 2,
   "id": "20b8ba9c-f33c-4061-8cfd-7b5a070006b3",
   "metadata": {
    "ExecuteTime": {
     "end_time": "2025-05-06T15:50:27.823663Z",
     "start_time": "2025-05-06T15:50:27.406081Z"
    }
   },
   "outputs": [],
   "source": [
    "# Extract data and targets\n",
    "raw_images, labels = dataset.data, dataset.targets\n",
    "raw_test_images, test_labels = val_dataset.data, val_dataset.targets\n",
    "num_classes = len(dataset.classes)\n",
    "\n",
    "# Standardize training data\n",
    "raw_images_float = raw_images.float() / 255.0\n",
    "train_mean = raw_images_float.mean(dim=(0, 2, 3)).view(1, -1, 1, 1)\n",
    "train_std = raw_images_float.std(dim=(0, 2, 3)).view(1, -1, 1, 1)\n",
    "images = (raw_images_float - train_mean) / train_std\n",
    "\n",
    "raw_test_images_float = raw_test_images.float() / 255.0\n",
    "test_images = (raw_test_images_float - train_mean) / train_std\n",
    "\n",
    "flattened_images = images.flatten(1)\n",
    "flattened_test_images = test_images.flatten(1)"
   ]
  },
  {
   "cell_type": "markdown",
   "id": "c1ee6f699a571822",
   "metadata": {},
   "source": [
    "## 3.1 Classical Algorithms\n",
    "- Identify at least three classification algorithms that can be used for image classification.\n",
    "- Explain briefly how they work and use them to classify the dataset.\n",
    "- Compare their metrics and runtime, which is best?\n",
    "\n",
    "For possible algorithm options you can get inspired [here](https://scikit-learn.org/stable/auto_examples/classification/plot_classifier_comparison.html)."
   ]
  },
  {
   "cell_type": "markdown",
   "id": "03a1dbef",
   "metadata": {},
   "source": [
    "Tree-based models like Decision Trees, Random Forests, and Gradient Boosting work well for galaxy classification. They can handle nonlinear patterns in high denmentional space. Random Forests and Boosting are accurate and robust. Trees also give feature importance and are easy to interpret. Other models like SVM or k-NN often require more tuning. And Random Forest and Gradient Boosting reduce overfitting. "
   ]
  },
  {
   "cell_type": "code",
   "execution_count": 3,
   "id": "26026cfc",
   "metadata": {},
   "outputs": [],
   "source": [
    "from sklearn.tree import DecisionTreeClassifier\n",
    "from sklearn.ensemble import RandomForestClassifier, GradientBoostingClassifier\n",
    "from sklearn.metrics import classification_report\n",
    "import time"
   ]
  },
  {
   "cell_type": "code",
   "execution_count": 9,
   "id": "2348942a",
   "metadata": {},
   "outputs": [
    {
     "name": "stdout",
     "output_type": "stream",
     "text": [
      "Decision Tree runtime (training + prediction): 91.9537 seconds\n"
     ]
    }
   ],
   "source": [
    "# decision tree\n",
    "start_time = time.time()\n",
    "\n",
    "# Train the Decision Tree\n",
    "dt = DecisionTreeClassifier()      # Initialize the classifier (default)\n",
    "dt.fit(flattened_images, labels)   # .fit() method trains the decision tree on training data\n",
    "\n",
    "# Predict on test data\n",
    "predicted_dt = dt.predict(flattened_test_images)\n",
    "\n",
    "end_time = time.time()\n",
    "\n",
    "# runtime\n",
    "runtime = end_time - start_time\n",
    "print(f\"Decision Tree runtime (training + prediction): {runtime:.4f} seconds\")"
   ]
  },
  {
   "cell_type": "code",
   "execution_count": null,
   "id": "dc69a724",
   "metadata": {},
   "outputs": [
    {
     "name": "stdout",
     "output_type": "stream",
     "text": [
      "Random forest runtime (training + prediction): 58.6369 seconds\n"
     ]
    }
   ],
   "source": [
    "# random forest\n",
    "start_time = time.time()\n",
    "\n",
    "# Train the random forest\n",
    "rf = RandomForestClassifier(n_estimators=100)   # 100 trees for stronger learning\n",
    "rf.fit(flattened_images, labels)\n",
    "\n",
    "# Predict on test data\n",
    "predicted_rf = rf.predict(flattened_test_images)\n",
    "\n",
    "end_time = time.time()\n",
    "\n",
    "# runtime\n",
    "runtime = end_time - start_time\n",
    "print(f\"Random forest runtime (training + prediction): {runtime:.4f} seconds\")"
   ]
  },
  {
   "cell_type": "code",
   "execution_count": 7,
   "id": "d127b6d0",
   "metadata": {},
   "outputs": [
    {
     "name": "stdout",
     "output_type": "stream",
     "text": [
      "Gradient boosting runtime (training + prediction): 1188.8294 seconds\n"
     ]
    }
   ],
   "source": [
    "# Gradient Boosting Classifier\n",
    "start_time = time.time()\n",
    "\n",
    "# Train the gradient boosting\n",
    "gb = GradientBoostingClassifier(n_estimators=20)   # 20 trees\n",
    "gb.fit(flattened_images, labels)\n",
    "\n",
    "# Predict on test data\n",
    "predicted_gb = gb.predict(flattened_test_images)\n",
    "\n",
    "end_time = time.time()\n",
    "\n",
    "# runtime\n",
    "runtime = end_time - start_time\n",
    "print(f\"Gradient boosting runtime (training + prediction): {runtime:.4f} seconds\")"
   ]
  },
  {
   "cell_type": "code",
   "execution_count": 10,
   "id": "fb612518",
   "metadata": {},
   "outputs": [
    {
     "name": "stdout",
     "output_type": "stream",
     "text": [
      "Decision Tree:\n",
      "              precision    recall  f1-score   support\n",
      "\n",
      "           0       0.73      0.72      0.72       507\n",
      "           1       0.51      0.49      0.50       506\n",
      "           2       0.51      0.53      0.52       507\n",
      "           3       0.63      0.64      0.63       480\n",
      "\n",
      "    accuracy                           0.59      2000\n",
      "   macro avg       0.59      0.59      0.59      2000\n",
      "weighted avg       0.59      0.59      0.59      2000\n",
      "\n",
      "Random Forest Classifier:\n",
      "              precision    recall  f1-score   support\n",
      "\n",
      "           0       0.88      0.85      0.86       507\n",
      "           1       0.66      0.68      0.67       506\n",
      "           2       0.66      0.66      0.66       507\n",
      "           3       0.82      0.81      0.82       480\n",
      "\n",
      "    accuracy                           0.75      2000\n",
      "   macro avg       0.75      0.75      0.75      2000\n",
      "weighted avg       0.75      0.75      0.75      2000\n",
      "\n"
     ]
    }
   ],
   "source": [
    "print(\"Decision Tree:\")\n",
    "print(classification_report(test_labels, predicted_dt))\n",
    "\n",
    "print(\"Random Forest Classifier:\")\n",
    "print(classification_report(test_labels, predicted_rf))"
   ]
  },
  {
   "cell_type": "code",
   "execution_count": 11,
   "id": "c5779472",
   "metadata": {},
   "outputs": [
    {
     "name": "stdout",
     "output_type": "stream",
     "text": [
      "Gradient Boosting Classifier:\n",
      "              precision    recall  f1-score   support\n",
      "\n",
      "           0       0.74      0.73      0.73       507\n",
      "           1       0.59      0.64      0.61       506\n",
      "           2       0.61      0.57      0.59       507\n",
      "           3       0.75      0.75      0.75       480\n",
      "\n",
      "    accuracy                           0.67      2000\n",
      "   macro avg       0.67      0.67      0.67      2000\n",
      "weighted avg       0.67      0.67      0.67      2000\n",
      "\n"
     ]
    }
   ],
   "source": [
    "print(\"Gradient Boosting Classifier:\")\n",
    "print(classification_report(test_labels, predicted_gb))"
   ]
  },
  {
   "cell_type": "markdown",
   "id": "4d4b65ac",
   "metadata": {},
   "source": [
    "Random Forest performed best overall. It had the fastest runtime and the highest precision and F1-score at the same tree depth. Decision Tree was second-fastest but had the lowest accuracy. Gradient Boosting was more accurate than the Decision Tree, but much slower than both. Therefore, Random Forest is the best choice in terms of both speed and accuracy. The reason why Gradient Boosting performs less than Random Forest is, that we did not tune the algorithm specifically for our data set which could lead to overfitting. "
   ]
  },
  {
   "cell_type": "markdown",
   "id": "caa9489279cbd05a",
   "metadata": {},
   "source": [
    "## 3.2 Neural Networks\n",
    "We will now start to use neural networks to classify the GalaxyMNIST dataset.\n",
    "### 3.2.1 Multi-Layer Perceptron (MLP)\n",
    "In this task you will write all the infrastructure to train and evaluate a neural network on a dataset. We recommend using PyTorch, but you can use any other framework as well. You can use [this](https://pytorch.org/tutorials/beginner/basics/quickstart_tutorial.html) tutorial to get started and follow the steps below:\n",
    "- Define a torch dataset (use a `TensorDataset`) and data loaders for the dataset.\n",
    "- Design a simple fully connected network.\n",
    "- Write a training loop which computes output, loss and does an optimization step.\n",
    "- Write an evaluation function that computes the predictions of the trained model on the test set. \n",
    "- Plot the training/test loss and accuracy against the number of epochs."
   ]
  },
  {
   "cell_type": "code",
   "execution_count": 4,
   "id": "aa160673",
   "metadata": {},
   "outputs": [],
   "source": [
    "from torch import nn\n",
    "from torch.utils.data import DataLoader, TensorDataset"
   ]
  },
  {
   "cell_type": "code",
   "execution_count": 9,
   "id": "0204332f",
   "metadata": {},
   "outputs": [
    {
     "name": "stdout",
     "output_type": "stream",
     "text": [
      "<torch.utils.data.dataset.TensorDataset object at 0x000001FB5A88C080>\n"
     ]
    }
   ],
   "source": [
    "# Define datasets and loaders\n",
    "batch_size = 64\n",
    "\n",
    "train_dataset = TensorDataset(images, labels)                          # torch dataset\n",
    "test_dataset = TensorDataset(test_images, test_labels)  \n",
    "train_loader = DataLoader(train_dataset, batch_size=batch_size, shuffle=True)    # torch data loaders\n",
    "test_loader = DataLoader(test_dataset, batch_size=batch_size)\n",
    "\n",
    "print(train_dataset)"
   ]
  },
  {
   "cell_type": "markdown",
   "id": "a1668245",
   "metadata": {},
   "source": [
    "shuffle set to True to have the data reshuffled at every epoch. An epoch is one full pass through the entire training dataset. When training a model, especially with stochastic gradient descent (SGD) or mini-batch optimizers like Adam, we want the model to see data in a different order every epoch. batch_size describes how many samples per batch to load. \n",
    "\n",
    "TensorDataset has the shape dataset[i] = (image[i],label[i]) image[i] has shape (C,H,W)"
   ]
  },
  {
   "cell_type": "code",
   "execution_count": 10,
   "id": "553dd2e8",
   "metadata": {},
   "outputs": [],
   "source": [
    "class MLP(nn.Module):\n",
    "    def __init__(self):\n",
    "        super().__init__()        # call the constructor method of parent class\n",
    "        self.flatten = nn.Flatten()\n",
    "        self.relu = nn.ReLU()                  # activition function f(x)=max{0,x}\n",
    "        self.fc1 = nn.Linear(3*64*64, 128)     # define 3 layers\n",
    "        self.fc2 = nn.Linear(128, 16)\n",
    "        self.fc3 = nn.Linear(16, 4)\n",
    "\n",
    "    def forward(self, x):\n",
    "        x = self.flatten(x)\n",
    "        x = self.fc1(x)\n",
    "        x = self.relu(x)\n",
    "        x = self.fc2(x)\n",
    "        x = self.relu(x)\n",
    "        x = self.fc3(x)\n",
    "        return x"
   ]
  },
  {
   "cell_type": "markdown",
   "id": "73e0e38e",
   "metadata": {},
   "source": [
    "forward() function. This is where the actual computation happens: An input is passed through the network layers and various functions to generate an output."
   ]
  },
  {
   "cell_type": "code",
   "execution_count": null,
   "id": "2e9b0136",
   "metadata": {},
   "outputs": [
    {
     "name": "stdout",
     "output_type": "stream",
     "text": [
      "Epoch 1, Batch 125, Loss: 1.3162784576416016\n",
      "Epoch 2, Batch 125, Loss: 1.2222880125045776\n",
      "Epoch 3, Batch 125, Loss: 1.1482748985290527\n",
      "Epoch 4, Batch 125, Loss: 1.2018166780471802\n",
      "Epoch 5, Batch 125, Loss: 1.0719972848892212\n",
      "Epoch 6, Batch 125, Loss: 1.046657919883728\n",
      "Epoch 7, Batch 125, Loss: 0.9746587872505188\n",
      "Epoch 8, Batch 125, Loss: 0.8884423971176147\n",
      "Epoch 9, Batch 125, Loss: 0.9526719450950623\n",
      "Epoch 10, Batch 125, Loss: 0.9197757840156555\n",
      "Epoch 11, Batch 125, Loss: 0.8227033019065857\n",
      "Epoch 12, Batch 125, Loss: 0.7856168150901794\n",
      "Epoch 13, Batch 125, Loss: 0.759818971157074\n",
      "Epoch 14, Batch 125, Loss: 0.7249516248703003\n",
      "Epoch 15, Batch 125, Loss: 0.774087131023407\n",
      "Epoch 16, Batch 125, Loss: 0.7040231227874756\n",
      "Epoch 17, Batch 125, Loss: 0.6275352239608765\n",
      "Epoch 18, Batch 125, Loss: 0.6907768845558167\n",
      "Epoch 19, Batch 125, Loss: 0.5854261517524719\n",
      "Epoch 20, Batch 125, Loss: 0.7195718288421631\n",
      "Epoch 21, Batch 125, Loss: 0.5801592469215393\n",
      "Epoch 22, Batch 125, Loss: 0.5412731170654297\n",
      "Epoch 23, Batch 125, Loss: 0.6497153639793396\n",
      "Epoch 24, Batch 125, Loss: 0.4925795793533325\n",
      "Epoch 25, Batch 125, Loss: 0.7404996156692505\n",
      "Epoch 26, Batch 125, Loss: 0.6022645235061646\n",
      "Epoch 27, Batch 125, Loss: 0.619109570980072\n",
      "Epoch 28, Batch 125, Loss: 0.5701169371604919\n",
      "Epoch 29, Batch 125, Loss: 0.5664469003677368\n",
      "Epoch 30, Batch 125, Loss: 0.5665450096130371\n"
     ]
    }
   ],
   "source": [
    "model = MLP()   # constructor\n",
    "# Hyperparameters\n",
    "learning_rate = 0.001\n",
    "num_epochs = 30\n",
    "\n",
    "# Loss and optimizer\n",
    "criterion = nn.CrossEntropyLoss()\n",
    "optimizer = torch.optim.SGD(model.parameters(), lr=1e-3)       # stochastic Gradient descent SGD (Impuls) avoiding gradient oszillating\n",
    "\n",
    "# training loop\n",
    "model.train()                                                    # enables training-specific behaviour\n",
    "loss_list=[]\n",
    "for epoch in range(num_epochs):\n",
    "    for batch_idx, (data, label) in enumerate(train_loader):     # batch_idx index of current batch\n",
    "        # loss\n",
    "        output = model(data)                                   # output after one loop\n",
    "        loss = criterion(output, label)                        # compute loss function\n",
    "\n",
    "        # backprop\n",
    "        loss.backward()                                         # compute gradient using backpropagating (chain rule)\n",
    "        optimizer.step()                                        # update model parameters\n",
    "        optimizer.zero_grad()                                   # clear old gradients\n",
    "\n",
    "        if (batch_idx+1) % 125 == 0:                            # print loss after every 125 = 8000 / 64 batches\n",
    "            print(f\"Epoch {epoch+1}, Batch {batch_idx+1}, Loss: {loss.item()}\")\n",
    "            loss_list.append(loss.item())"
   ]
  },
  {
   "cell_type": "markdown",
   "id": "0b2c1863",
   "metadata": {},
   "source": [
    "So in summary, we have run 125 Batchs for each epoch, then in each Batch there is 64 data to be processed which means in each epoch we processed 125 x 64 = 8000 data. And in total we have run 30 epoch. (8000 data repeated 30 times)"
   ]
  },
  {
   "cell_type": "code",
   "execution_count": null,
   "id": "39774876",
   "metadata": {},
   "outputs": [
    {
     "name": "stdout",
     "output_type": "stream",
     "text": [
      "Test error: \n",
      "Accuracy: 74.20%\n",
      "Average loss: 0.6161243915557861\n",
      "32\n"
     ]
    }
   ],
   "source": [
    "num_correct = 0\n",
    "test_loss = 0\n",
    "num_samples = len(test_dataset)\n",
    "num_batches = len(test_loader)       # 2000 / 64 = 31.25\n",
    "\n",
    "# evaluation\n",
    "model.eval()                                        # switch to evaluation-mode\n",
    "with torch.no_grad():\n",
    "    for eval_data, eval_label in test_loader:\n",
    "        prediction = model(eval_data)\n",
    "        test_loss += criterion(prediction, eval_label)\n",
    "        num_correct += (prediction.argmax(1) == eval_label).sum()\n",
    "test_loss /= num_batches      # average loss\n",
    "print(f\"Test error: \\nAccuracy: {num_correct/num_samples*100:.2f}%\\nAverage loss: {test_loss}\")\n",
    "# print(len(test_loader))"
   ]
  },
  {
   "cell_type": "markdown",
   "id": "547c0e33",
   "metadata": {},
   "source": [
    "We chose two model, stochastic Gradient descent (Impuls) + self-adaptive (Adam 2014) and SGD and find out, even though Adam has a quicker convergence and much small loss, the accuracy on the test data is less than SGD. Which could be that Adam is quickly overfitted with large amount of data. And in contrast, SGD with a less convergence rate yields a better accuracy on the test dataset."
   ]
  },
  {
   "cell_type": "code",
   "execution_count": 46,
   "id": "66664ed0",
   "metadata": {},
   "outputs": [
    {
     "name": "stdout",
     "output_type": "stream",
     "text": [
      "Epoch 1, 1.337014079093933\n",
      "tensor(36.4000) %\n",
      "Epoch 2, 1.2244001626968384\n",
      "tensor(48.2500) %\n",
      "Epoch 3, 1.2968240976333618\n",
      "tensor(46.1500) %\n",
      "Epoch 4, 1.172249436378479\n",
      "tensor(56.2500) %\n",
      "Epoch 5, 1.1535234451293945\n",
      "tensor(52.2500) %\n",
      "Epoch 6, 1.0841320753097534\n",
      "tensor(57.8500) %\n",
      "Epoch 7, 1.064683437347412\n",
      "tensor(61.2500) %\n",
      "Epoch 8, 0.9673925042152405\n",
      "tensor(59.9000) %\n",
      "Epoch 9, 0.9564957618713379\n",
      "tensor(62.9500) %\n",
      "Epoch 10, 0.9308187961578369\n",
      "tensor(63.) %\n",
      "Epoch 11, 0.8640064001083374\n",
      "tensor(67.5500) %\n",
      "Epoch 12, 0.8162903785705566\n",
      "tensor(70.1000) %\n",
      "Epoch 13, 0.7761751413345337\n",
      "tensor(69.5000) %\n",
      "Epoch 14, 0.7324569225311279\n",
      "tensor(69.1500) %\n",
      "Epoch 15, 0.9366794228553772\n",
      "tensor(63.4000) %\n",
      "Epoch 16, 0.7135648131370544\n",
      "tensor(70.2500) %\n",
      "Epoch 17, 0.7509546875953674\n",
      "tensor(69.6000) %\n",
      "Epoch 18, 0.6983433961868286\n",
      "tensor(70.8500) %\n",
      "Epoch 19, 0.8160480260848999\n",
      "tensor(67.0500) %\n",
      "Epoch 20, 0.681789755821228\n",
      "tensor(72.0500) %\n",
      "Epoch 21, 0.6447797417640686\n",
      "tensor(74.6500) %\n",
      "Epoch 22, 0.6706358790397644\n",
      "tensor(72.9500) %\n",
      "Epoch 23, 0.6541380882263184\n",
      "tensor(73.2500) %\n",
      "Epoch 24, 0.6300140619277954\n",
      "tensor(75.3500) %\n",
      "Epoch 25, 0.6597564220428467\n",
      "tensor(73.2500) %\n",
      "Epoch 26, 0.677096962928772\n",
      "tensor(72.2500) %\n",
      "Epoch 27, 0.6375513672828674\n",
      "tensor(73.6500) %\n",
      "Epoch 28, 0.638634443283081\n",
      "tensor(73.5500) %\n",
      "Epoch 29, 0.6328082084655762\n",
      "tensor(73.2500) %\n",
      "Epoch 30, 0.613309383392334\n",
      "tensor(75.1500) %\n",
      "Epoch 31, 0.6211882829666138\n",
      "tensor(74.8000) %\n",
      "Epoch 32, 0.6189593076705933\n",
      "tensor(73.6500) %\n",
      "Epoch 33, 0.612964391708374\n",
      "tensor(74.9500) %\n",
      "Epoch 34, 0.6106748580932617\n",
      "tensor(74.9000) %\n",
      "Epoch 35, 0.619907557964325\n",
      "tensor(75.) %\n",
      "Epoch 36, 0.6202347874641418\n",
      "tensor(74.0500) %\n",
      "Epoch 37, 0.627364456653595\n",
      "tensor(74.) %\n",
      "Epoch 38, 0.6114239692687988\n",
      "tensor(74.8500) %\n",
      "Epoch 39, 0.617137610912323\n",
      "tensor(74.8000) %\n",
      "Epoch 40, 0.6027120351791382\n",
      "tensor(75.2000) %\n",
      "Epoch 41, 0.6044588685035706\n",
      "tensor(75.7000) %\n",
      "Epoch 42, 0.6040308475494385\n",
      "tensor(75.7500) %\n",
      "Epoch 43, 0.6111177802085876\n",
      "tensor(74.4000) %\n",
      "Epoch 44, 0.5944608449935913\n",
      "tensor(75.9500) %\n",
      "Epoch 45, 0.6069932579994202\n",
      "tensor(73.5000) %\n",
      "Epoch 46, 0.6001866459846497\n",
      "tensor(74.7000) %\n",
      "Epoch 47, 0.5944111943244934\n",
      "tensor(74.6000) %\n",
      "Epoch 48, 0.5881503820419312\n",
      "tensor(75.3500) %\n",
      "Epoch 49, 0.5876172184944153\n",
      "tensor(75.7500) %\n"
     ]
    }
   ],
   "source": [
    "# training loop\n",
    "loss_list=[]\n",
    "loss_test_list = []\n",
    "acc_test_list = []\n",
    "for num_epochs in range(1,50):\n",
    "    \n",
    "    model = MLP()\n",
    "    criterion = nn.CrossEntropyLoss()\n",
    "    optimizer = torch.optim.SGD(model.parameters(), lr=1e-3)  \n",
    "    \n",
    "    model.train()                                                    \n",
    "    for epoch in range(num_epochs):\n",
    "        for batch_idx, (data, label) in enumerate(train_loader):    \n",
    "            # loss\n",
    "            output = model(data)                                   \n",
    "            loss = criterion(output, label)                        \n",
    "\n",
    "            # backprop\n",
    "            loss.backward()                                         \n",
    "            optimizer.step()                                      \n",
    "            optimizer.zero_grad()                                 \n",
    "\n",
    "            #if (batch_idx+1) % 125 == 0:                            \n",
    "                # print(f\"Epoch {epoch+1}, Batch {batch_idx+1}, Loss: {loss.item()}\")\n",
    "    loss_list.append(loss.item())\n",
    "\n",
    "    test_loss = 0\n",
    "    num_correct = 0\n",
    "    model.eval()                                       \n",
    "    with torch.no_grad():\n",
    "        for eval_data, eval_label in test_loader:\n",
    "            prediction = model(eval_data)\n",
    "            test_loss += criterion(prediction, eval_label)\n",
    "            num_correct += (prediction.argmax(1) == eval_label).sum()\n",
    "    test_loss /= num_batches\n",
    "    print(f\"Epoch {num_epochs}, {test_loss}\")\n",
    "    print(num_correct/num_samples*100, '%')\n",
    "\n",
    "    loss_test_list.append(test_loss)\n",
    "    acc_test_list.append(num_correct/num_samples*100)\n",
    "    test_loss = 0\n",
    "    num_correct = 0"
   ]
  },
  {
   "cell_type": "code",
   "execution_count": 47,
   "id": "715008ab",
   "metadata": {},
   "outputs": [
    {
     "name": "stdout",
     "output_type": "stream",
     "text": [
      "[ 1  2  3  4  5  6  7  8  9 10 11 12 13 14 15 16 17 18 19 20 21 22 23 24\n",
      " 25 26 27 28 29 30 31 32 33 34 35 36 37 38 39 40 41 42 43 44 45 46 47 48\n",
      " 49]\n"
     ]
    },
    {
     "data": {
      "image/png": "[encoded data removed]",
      "text/plain": [
       "<Figure size 640x480 with 1 Axes>"
      ]
     },
     "metadata": {},
     "output_type": "display_data"
    }
   ],
   "source": [
    "x_range = np.arange(49) +1\n",
    "print(x_range)\n",
    "plt.plot(x_range, loss_list, label='training')\n",
    "plt.plot(x_range, loss_test_list, label='test')\n",
    "plt.title('loss of training and test datasets')\n",
    "plt.xlabel('Epoche')\n",
    "plt.ylabel('loss')\n",
    "\n",
    "plt.legend()\n",
    "plt.show()"
   ]
  },
  {
   "cell_type": "markdown",
   "id": "5998224c",
   "metadata": {},
   "source": []
  },
  {
   "cell_type": "code",
   "execution_count": 48,
   "id": "c4adfe47",
   "metadata": {},
   "outputs": [
    {
     "data": {
      "image/png": "[encoded data removed]",
      "text/plain": [
       "<Figure size 640x480 with 1 Axes>"
      ]
     },
     "metadata": {},
     "output_type": "display_data"
    }
   ],
   "source": [
    "plt.plot(x_range, acc_test_list)\n",
    "plt.title('accuracy of test datasets based on training')\n",
    "plt.xlabel('Epoche')\n",
    "plt.ylabel('accuracy')\n",
    "\n",
    "plt.show()"
   ]
  },
  {
   "cell_type": "markdown",
   "id": "8588a35e795048cf",
   "metadata": {},
   "source": [
    "### 3.2.2  CNN\n",
    "MLPs are a simple form of neural networks. However, inserting prior knowledge about the structure of the data can help improve the performance. Convolutional Neural Networks (CNNs) are a type of neural network that is well-suited for image classification tasks.\n",
    "- Design a CNN and train it on the dataset.\n",
    "- Can an MLP learn to act like a CNN?"
   ]
  },
  {
   "cell_type": "code",
   "execution_count": 49,
   "id": "4a8db305",
   "metadata": {},
   "outputs": [
    {
     "name": "stdout",
     "output_type": "stream",
     "text": [
      "<torch.utils.data.dataset.TensorDataset object at 0x000001FB5A88C080>\n"
     ]
    }
   ],
   "source": [
    "batch_size = 20\n",
    "\n",
    "train_loader = DataLoader(train_dataset, batch_size=batch_size, shuffle=True)    # torch data loaders\n",
    "test_loader = DataLoader(test_dataset, batch_size=batch_size)\n",
    "\n",
    "print(train_dataset)"
   ]
  },
  {
   "cell_type": "code",
   "execution_count": 51,
   "id": "b4e0ed06",
   "metadata": {},
   "outputs": [],
   "source": [
    "class galaxy_CNN(nn.Module):\n",
    "    def __init__(self):\n",
    "        super().__init__()\n",
    "        \n",
    "        # Convolutional layers\n",
    "        self.conv1 = nn.Conv2d(in_channels=3, out_channels=6, kernel_size=5)   # 3 input image channel (RGB), 6 output channels, 5x5 square convolution kernel\n",
    "        self.conv2 = nn.Conv2d(in_channels=6, out_channels=10, kernel_size=5)\n",
    "\n",
    "        # Fully connected layers\n",
    "        self.fc1 = nn.Linear(8*8*10, 18)\n",
    "        self.fc2 = nn.Linear(18, 10)\n",
    "        self.fc3 = nn.Linear(10, 4)       # 4 output classes (galaxy types)\n",
    "\n",
    "        # Activation and pooling\n",
    "        self.relu = nn.ReLU()\n",
    "        self.pool1 = nn.MaxPool2d(kernel_size=3)\n",
    "        self.pool2 = nn.MaxPool2d(kernel_size=2)\n",
    "\n",
    "\n",
    "    def forward(self, x):\n",
    "        \n",
    "        x = self.conv1(x)\n",
    "        x = self.relu(x)\n",
    "        x = self.pool1(x)\n",
    "        x = self.conv2(x)\n",
    "        x = self.relu(x)\n",
    "        x = self.pool2(x)\n",
    "        x = x.view(x.shape[0], -1)        # flatten for fully connected layers\n",
    "        x = self.fc1(x)\n",
    "        x = self.relu(x)\n",
    "        x = self.fc2(x)\n",
    "        x = self.relu(x)\n",
    "        x = self.fc3(x)\n",
    "\n",
    "        return x"
   ]
  },
  {
   "cell_type": "markdown",
   "id": "487f6b31",
   "metadata": {},
   "source": [
    "The model architecture, defined in the GalaxyCNN class, consists of two convolutional layers followed by two max-pooling layers. The first convolutional layer maps the input from 3 channels to 6 feature maps using 5×5 filters, followed by ReLU activation and a 3×3 max-pooling operation (take the max element of 3 x 3 matrix). The second convolutional layer maps the output to 10 feature maps, again using 5×5 filters, followed by ReLU and 2×2 max-pooling. The resulting feature map of shape (10, 8, 8) is flattened into a vector of length 640, which is passed through three fully connected layers (MLP). These reduce the dimension step-by-step and finally output four class scores."
   ]
  },
  {
   "cell_type": "code",
   "execution_count": 54,
   "id": "0faab1e5",
   "metadata": {},
   "outputs": [
    {
     "name": "stdout",
     "output_type": "stream",
     "text": [
      "Epoch 1, Batch 100, Loss: 1.3867180347442627\n",
      "Epoch 1, Batch 200, Loss: 1.37772536277771\n",
      "Epoch 1, Batch 300, Loss: 1.370990514755249\n",
      "Epoch 1, Batch 400, Loss: 1.3439589738845825\n",
      "Epoch 2, Batch 100, Loss: 1.3167955875396729\n",
      "Epoch 2, Batch 200, Loss: 1.254128098487854\n",
      "Epoch 2, Batch 300, Loss: 0.9302548170089722\n",
      "Epoch 2, Batch 400, Loss: 0.9268521070480347\n",
      "Epoch 3, Batch 100, Loss: 0.8801907300949097\n",
      "Epoch 3, Batch 200, Loss: 1.0707935094833374\n",
      "Epoch 3, Batch 300, Loss: 0.9799167513847351\n",
      "Epoch 3, Batch 400, Loss: 0.5642772912979126\n",
      "Epoch 4, Batch 100, Loss: 0.8357051014900208\n",
      "Epoch 4, Batch 200, Loss: 0.8495904803276062\n",
      "Epoch 4, Batch 300, Loss: 0.7135067582130432\n",
      "Epoch 4, Batch 400, Loss: 0.6629582643508911\n",
      "Epoch 5, Batch 100, Loss: 0.818010151386261\n",
      "Epoch 5, Batch 200, Loss: 0.6795662641525269\n",
      "Epoch 5, Batch 300, Loss: 0.5741599798202515\n",
      "Epoch 5, Batch 400, Loss: 0.530976414680481\n",
      "Epoch 6, Batch 100, Loss: 0.920554518699646\n",
      "Epoch 6, Batch 200, Loss: 0.8961172103881836\n",
      "Epoch 6, Batch 300, Loss: 0.8093671798706055\n",
      "Epoch 6, Batch 400, Loss: 0.7525427341461182\n",
      "Epoch 7, Batch 100, Loss: 0.6872861385345459\n",
      "Epoch 7, Batch 200, Loss: 0.4516932964324951\n",
      "Epoch 7, Batch 300, Loss: 0.5917358994483948\n",
      "Epoch 7, Batch 400, Loss: 0.5814085006713867\n",
      "Epoch 8, Batch 100, Loss: 0.6370992064476013\n",
      "Epoch 8, Batch 200, Loss: 0.6188238859176636\n",
      "Epoch 8, Batch 300, Loss: 0.5855243802070618\n",
      "Epoch 8, Batch 400, Loss: 0.5588064789772034\n",
      "Epoch 9, Batch 100, Loss: 0.4440971314907074\n",
      "Epoch 9, Batch 200, Loss: 0.6032507419586182\n",
      "Epoch 9, Batch 300, Loss: 0.6115837097167969\n",
      "Epoch 9, Batch 400, Loss: 0.5025365948677063\n",
      "Epoch 10, Batch 100, Loss: 0.5152515172958374\n",
      "Epoch 10, Batch 200, Loss: 0.6709240078926086\n",
      "Epoch 10, Batch 300, Loss: 0.571216344833374\n",
      "Epoch 10, Batch 400, Loss: 0.3604811728000641\n"
     ]
    }
   ],
   "source": [
    "galaxy_clf = galaxy_CNN()\n",
    "\n",
    "# Hyperparameters\n",
    "learning_rate = 0.01\n",
    "num_epochs = 10\n",
    "\n",
    "criterion = nn.CrossEntropyLoss()\n",
    "optimizer = torch.optim.SGD(galaxy_clf.parameters(), lr=learning_rate)\n",
    "\n",
    "# training loop\n",
    "for epoch in range(num_epochs):\n",
    "    galaxy_clf.train()\n",
    "    for batch_idx, (data, label) in enumerate(train_loader):\n",
    "        # loss\n",
    "        prediction = galaxy_clf(data)\n",
    "        loss = criterion(prediction, label)\n",
    "\n",
    "        # backprop\n",
    "        loss.backward()\n",
    "        optimizer.step()\n",
    "        optimizer.zero_grad()\n",
    "\n",
    "        if (batch_idx+1) % 100 == 0:\n",
    "            print(f\"Epoch {epoch+1}, Batch {batch_idx+1}, Loss: {loss.item()}\")"
   ]
  },
  {
   "cell_type": "code",
   "execution_count": 59,
   "id": "c6128ccb",
   "metadata": {},
   "outputs": [
    {
     "name": "stdout",
     "output_type": "stream",
     "text": [
      "Training error: \n",
      "Accuracy: 75.55%\n",
      "Average loss: 0.58119136095047\n"
     ]
    }
   ],
   "source": [
    "# evaluation\n",
    "num_correct = 0\n",
    "test_loss = 0\n",
    "num_samples = len(test_dataset)\n",
    "num_batches = len(test_loader)\n",
    "# evaluation\n",
    "galaxy_clf.eval()\n",
    "with torch.no_grad():\n",
    "    for eval_data, eval_label in test_loader:\n",
    "        prediction = galaxy_clf(eval_data)\n",
    "        test_loss += criterion(prediction, eval_label)\n",
    "        num_correct += (prediction.argmax(1) == eval_label).sum()\n",
    "test_loss /= num_batches\n",
    "print(f\"Training error: \\nAccuracy: {num_correct/num_samples*100:.2f}%\\nAverage loss: {test_loss}\")"
   ]
  },
  {
   "cell_type": "markdown",
   "id": "193012a19d594051",
   "metadata": {},
   "source": [
    "## 3.2.3 Model Analysis\n",
    "- Print how many parameters each neural network has.\n",
    "- Does more parameters always mean better performance?"
   ]
  },
  {
   "cell_type": "code",
   "execution_count": 60,
   "id": "819e1bfe",
   "metadata": {},
   "outputs": [
    {
     "name": "stdout",
     "output_type": "stream",
     "text": [
      "MLP: 1575124\n",
      "CNN: 13738\n"
     ]
    }
   ],
   "source": [
    "print(f\"MLP: {sum(p.numel() for p in model.parameters() if p.requires_grad)}\")\n",
    "print(f\"CNN: {sum(p.numel() for p in galaxy_clf.parameters() if p.requires_grad)}\")"
   ]
  },
  {
   "cell_type": "markdown",
   "id": "717503ed",
   "metadata": {},
   "source": [
    "These Parameters come out if we just multiply every input-channels and output-channels from fully connected layers. (with additional paramter for phase transitions and operations). After two Convolution Operations we have enormly reduced the aktive parameter. \n",
    "\n",
    "A model with millions of parameters can memorize the whole training data. Which could lead to the case that it learns to fit the training data too closely and performs poorly on unseen data. For example here MLP treat each pixel independently. This makes CNNs more efficient and better suited for images because they assume local structure and learn hierarchical features like edges, textures, and shapes."
   ]
  },
  {
   "cell_type": "markdown",
   "id": "26e0f2b0",
   "metadata": {},
   "source": [
    "p.numel() gives the total number of elements in the parameter tensor p, \"if p.requires_grad\" ensures we count only parameters that are updated during training."
   ]
  },
  {
   "cell_type": "markdown",
   "id": "3e37aaffc1191b9f",
   "metadata": {},
   "source": [
    "### 3.2.4 Hyperparameter Tuning\n",
    "- Use your best model and try to improve its performance by changing its architecture. Possible changes include:\n",
    "    - Normalization Layers\n",
    "    - Regularization (Optimizer or Layers)\n",
    "    - Different Activation Functions\n",
    "    - Different Learning Rates\n",
    "    - Increase the number of layers or neurons\n",
    "- Report which changes seem effective and which do not."
   ]
  },
  {
   "cell_type": "code",
   "execution_count": 61,
   "id": "998e4dbf",
   "metadata": {},
   "outputs": [],
   "source": [
    "batch_size = 20\n",
    "\n",
    "train_loader = DataLoader(train_dataset, batch_size=batch_size, shuffle=True)    # torch data loaders\n",
    "test_loader = DataLoader(test_dataset, batch_size=batch_size)"
   ]
  },
  {
   "cell_type": "code",
   "execution_count": null,
   "id": "2e0d18f7",
   "metadata": {},
   "outputs": [],
   "source": [
    "class galaxy_CNN_improved(nn.Module):\n",
    "    def __init__(self):\n",
    "        super().__init__()\n",
    "        \n",
    "        self.conv1 = nn.Conv2d(3, 6, 5)\n",
    "        self.conv2 = nn.Conv2d(6, 10, 5)\n",
    "        \n",
    "\n",
    "        # self.norm1 = nn.LayerNorm([batch_size, 6, 60, 60])\n",
    "        # self.norm2 = nn.LayerNorm([batch_size, 10, 16, 16])\n",
    "        # self.norm3 = nn.LayerNorm([batch_size, 18])\n",
    "        # self.norm4 = nn.LayerNorm([batch_size, 10])\n",
    "\n",
    "        self.fc1 = nn.Linear(8*8*10, 18)\n",
    "        self.fc2 = nn.Linear(18, 10)\n",
    "        self.fc3 = nn.Linear(10, 4)\n",
    "\n",
    "\n",
    "        self.act = nn.ReLU()       # activition function\n",
    "        # self.act = nn.Tanh()\n",
    "        # self.act = nn.Sigmoid()\n",
    "        # self.act = nn.LeakyReLU()\n",
    "\n",
    "        self.pool1 = nn.MaxPool2d(3)\n",
    "        self.pool2 = nn.MaxPool2d(2)\n",
    "\n",
    "        \n",
    "    def forward(self, x):\n",
    "        \n",
    "        x = self.conv1(x)\n",
    "        # x = self.norm1(x)\n",
    "        x = self.act(x)\n",
    "        x = self.pool1(x)\n",
    "\n",
    "        x = self.conv2(x)\n",
    "        # x = self.norm2(x)\n",
    "        x = self.act(x)\n",
    "        x = self.pool2(x)\n",
    "\n",
    "        x = x.view(x.shape[0], -1)\n",
    "\n",
    "        x = self.fc1(x)\n",
    "        # x = self.norm3(x)\n",
    "        x = self.act(x)\n",
    "        \n",
    "        x = self.fc2(x)\n",
    "        # x = self.norm4(x)\n",
    "        x = self.act(x)\n",
    "\n",
    "        x = self.fc3(x)\n",
    "\n",
    "        return x"
   ]
  },
  {
   "cell_type": "code",
   "execution_count": null,
   "id": "fa8971e4",
   "metadata": {},
   "outputs": [
    {
     "name": "stdout",
     "output_type": "stream",
     "text": [
      "Epoch 1, Batch 400, Loss: 0.9267688989639282\n",
      "Epoch 2, Batch 400, Loss: 0.8913426399230957\n",
      "Epoch 3, Batch 400, Loss: 0.9627035856246948\n",
      "Epoch 4, Batch 400, Loss: 0.6268956661224365\n",
      "Epoch 5, Batch 400, Loss: 0.4321037828922272\n",
      "Epoch 6, Batch 400, Loss: 0.6094422936439514\n",
      "Epoch 7, Batch 400, Loss: 0.4093467593193054\n",
      "Epoch 8, Batch 400, Loss: 0.4566052556037903\n",
      "Epoch 9, Batch 400, Loss: 0.4397957921028137\n",
      "Epoch 10, Batch 400, Loss: 0.667098879814148\n"
     ]
    }
   ],
   "source": [
    "galaxy_clf_improved = galaxy_CNN_improved()\n",
    "\n",
    "# Hyperparameters\n",
    "learning_rate = 0.01\n",
    "num_epochs = 10\n",
    "\n",
    "# loss and optimizer\n",
    "criterion = nn.CrossEntropyLoss()\n",
    "optimizer = torch.optim.SGD(galaxy_clf_improved.parameters(), lr=learning_rate)\n",
    "\n",
    "# training loop\n",
    "for epoch in range(num_epochs):\n",
    "    galaxy_clf_improved.train()\n",
    "    for batch_idx, (data, label) in enumerate(train_loader):\n",
    "        # loss\n",
    "        prediction = galaxy_clf_improved(data)\n",
    "        loss = criterion(prediction, label)\n",
    "\n",
    "        # backprop\n",
    "        loss.backward()\n",
    "        optimizer.step()\n",
    "        optimizer.zero_grad()\n",
    "\n",
    "        if (batch_idx+1) % 400 == 0:\n",
    "            print(f\"Epoch {epoch+1}, Batch {batch_idx+1}, Loss: {loss.item()}\")"
   ]
  },
  {
   "cell_type": "code",
   "execution_count": 105,
   "id": "68cdeba2",
   "metadata": {},
   "outputs": [
    {
     "name": "stdout",
     "output_type": "stream",
     "text": [
      "Training error: \n",
      "Accuracy: 72.90%\n",
      "Average loss: 0.5997151136398315\n"
     ]
    }
   ],
   "source": [
    "# evaluation\n",
    "num_correct = 0\n",
    "test_loss = 0\n",
    "num_samples = len(test_dataset)\n",
    "num_batches = len(test_loader)\n",
    "# evaluation\n",
    "galaxy_clf_improved.eval()\n",
    "with torch.no_grad():\n",
    "    for eval_data, eval_label in test_loader:\n",
    "        prediction = galaxy_clf_improved(eval_data)\n",
    "        test_loss += criterion(prediction, eval_label)\n",
    "        num_correct += (prediction.argmax(1) == eval_label).sum()\n",
    "test_loss /= num_batches\n",
    "print(f\"Training error: \\nAccuracy: {num_correct/num_samples*100:.2f}%\\nAverage loss: {test_loss}\")"
   ]
  },
  {
   "cell_type": "markdown",
   "id": "122c398f",
   "metadata": {},
   "source": [
    "##### increase the number of layers:"
   ]
  },
  {
   "cell_type": "code",
   "execution_count": 107,
   "id": "0aa8e485",
   "metadata": {},
   "outputs": [
    {
     "name": "stdout",
     "output_type": "stream",
     "text": [
      "Epoch 1, Batch 400, Loss: 1.381935954093933\n",
      "Epoch 2, Batch 400, Loss: 1.384156584739685\n",
      "Epoch 3, Batch 400, Loss: 1.3600386381149292\n",
      "Epoch 4, Batch 400, Loss: 0.7162988781929016\n",
      "Epoch 5, Batch 400, Loss: 1.0442287921905518\n",
      "Epoch 6, Batch 400, Loss: 0.721462607383728\n",
      "Epoch 7, Batch 400, Loss: 0.4310649037361145\n",
      "Epoch 8, Batch 400, Loss: 0.5519551038742065\n",
      "Epoch 9, Batch 400, Loss: 0.41547664999961853\n",
      "Epoch 10, Batch 400, Loss: 0.3931173086166382\n",
      "Training error: \n",
      "Accuracy: 74.90%\n",
      "Average loss: 0.5927560925483704\n"
     ]
    }
   ],
   "source": [
    "class galaxy_CNN_improved(nn.Module):\n",
    "    def __init__(self):\n",
    "        super().__init__()\n",
    "        \n",
    "        # Increased depth and width\n",
    "        self.conv1 = nn.Conv2d(3, 16, kernel_size=3, padding=1)     # 64x64 → 64x64\n",
    "        self.conv2 = nn.Conv2d(16, 32, kernel_size=3, padding=1)    # 64x64 → 64x64\n",
    "        self.pool1 = nn.MaxPool2d(kernel_size=2)                    # 64x64 → 32x32\n",
    "\n",
    "        self.conv3 = nn.Conv2d(32, 64, kernel_size=3, padding=1)    # 32x32 → 32x32\n",
    "        self.conv4 = nn.Conv2d(64, 128, kernel_size=3, padding=1)   # 32x32 → 32x32\n",
    "        self.pool2 = nn.MaxPool2d(kernel_size=2)                    # 32x32 → 16x16\n",
    "\n",
    "        # Compute flattened size: 128 × 16 × 16 = 32768\n",
    "        self.fc1 = nn.Linear(128 * 16 * 16, 512)\n",
    "        self.fc2 = nn.Linear(512, 128)\n",
    "        self.fc3 = nn.Linear(128, 32)\n",
    "        self.fc4 = nn.Linear(32, 4)  # 4 output classes\n",
    "\n",
    "        self.act = nn.ReLU()\n",
    "\n",
    "    def forward(self, x):\n",
    "        x = self.act(self.conv1(x))\n",
    "        x = self.act(self.conv2(x))\n",
    "        x = self.pool1(x)\n",
    "\n",
    "        x = self.act(self.conv3(x))\n",
    "        x = self.act(self.conv4(x))\n",
    "        x = self.pool2(x)\n",
    "\n",
    "        x = x.view(x.size(0), -1)  # flatten\n",
    "\n",
    "        x = self.act(self.fc1(x))\n",
    "        x = self.act(self.fc2(x))\n",
    "        x = self.act(self.fc3(x))\n",
    "        x = self.fc4(x)\n",
    "\n",
    "        return x\n",
    "\n",
    "\n",
    "galaxy_clf_improved = galaxy_CNN_improved()\n",
    "\n",
    "# Hyperparameters\n",
    "learning_rate = 0.01\n",
    "num_epochs = 10\n",
    "\n",
    "# loss and optimizer\n",
    "criterion = nn.CrossEntropyLoss()\n",
    "optimizer = torch.optim.SGD(galaxy_clf_improved.parameters(), lr=learning_rate)\n",
    "\n",
    "# training loop\n",
    "for epoch in range(num_epochs):\n",
    "    galaxy_clf_improved.train()\n",
    "    for batch_idx, (data, label) in enumerate(train_loader):\n",
    "        # loss\n",
    "        prediction = galaxy_clf_improved(data)\n",
    "        loss = criterion(prediction, label)\n",
    "\n",
    "        # backprop\n",
    "        loss.backward()\n",
    "        optimizer.step()\n",
    "        optimizer.zero_grad()\n",
    "\n",
    "        if (batch_idx+1) % 400 == 0:\n",
    "            print(f\"Epoch {epoch+1}, Batch {batch_idx+1}, Loss: {loss.item()}\")\n",
    "\n",
    "# evaluation\n",
    "num_correct = 0\n",
    "test_loss = 0\n",
    "num_samples = len(test_dataset)\n",
    "num_batches = len(test_loader)\n",
    "# evaluation\n",
    "galaxy_clf_improved.eval()\n",
    "with torch.no_grad():\n",
    "    for eval_data, eval_label in test_loader:\n",
    "        prediction = galaxy_clf_improved(eval_data)\n",
    "        test_loss += criterion(prediction, eval_label)\n",
    "        num_correct += (prediction.argmax(1) == eval_label).sum()\n",
    "test_loss /= num_batches\n",
    "print(f\"Training error: \\nAccuracy: {num_correct/num_samples*100:.2f}%\\nAverage loss: {test_loss}\")"
   ]
  },
  {
   "cell_type": "markdown",
   "id": "a732ebff",
   "metadata": {},
   "source": [
    "| Content    | Original | Layers Normalized | ReLU→Sigmoid | ReLU→LeakyReLU | ReLU→tanh | LR = 0.03 | LR = 0.07 | LR = 0.1 |\n",
    "|------------|----------|-------------------|--------------|----------------|-----------|-----------|-----------|----------|\n",
    "| Accuracy   | 74.65%   | 70.60%            | 25.35%       | 74.20%         | 69.2%     | 75.95%    | 75.75%    | 71.15%   |\n",
    "| Loss Train | 0.40     | 0.72              | 1.38         | 0.32           | 0.63      | 0.43      | 0.79      | 0.52     |\n",
    "| Loss Test  | 0.55     | 0.64              | 1.38         | 0.58           | 0.68      | 0.57      | 0.57      | 0.64     |\n",
    "| Run Time   | 16.8s    | 53.7s             | 23.9s        | 16s            | 16.9s     | 16.1s     | 16.2s     | 16s      |\n",
    "\n",
    "##\n",
    "\n",
    "| Content    | SGD→Adam | SGD→AdaGrad | More Layers |\n",
    "|------------|----------|-------------|-------------|\n",
    "| Accuracy   | 75.65%   | 72.9%       | 74.9%       |\n",
    "| Loss Train | 0.31     | 0.66        | 0.39        |\n",
    "| Loss Test  | 0.56     | 0.6         | 0.59        |\n",
    "| Run Time   | 18.4s    | 25.4s       | 9min 3s     |\n"
   ]
  },
  {
   "cell_type": "markdown",
   "id": "13049e5a",
   "metadata": {},
   "source": []
  },
  {
   "cell_type": "markdown",
   "id": "594dda00",
   "metadata": {},
   "source": [
    "| **Change**                  | **Purpose**                            | **Qualitative Benefit**                                           |\n",
    "|----------------------------|----------------------------------------|-------------------------------------------------------------------|\n",
    "| **Normalization Layers**   | Normalize activations during training  | - Stabilizes learning<br>- Enables higher learning rates<br>- Reduces internal covariate shift |\n",
    "| **Dropout (Regularization)** | Randomly disable neurons              | - Reduces overfitting<br>- Encourages more robust feature learning |\n",
    "| **Adam Optimizer**         | Adaptive learning rates per parameter  | - Faster convergence<br>- Less sensitive to hyperparameter tuning |\n",
    "| **SGD Optimizer**          | Simple gradient-based optimization     | - Can generalize better<br>- Works well with tuning and momentum  |\n",
    "| **ReLU Activation**        | Non-linear transformation              | - Fast and simple<br>- Helps train deep networks                  |\n",
    "| **LeakyReLU Activation**   | Variant of ReLU to avoid \"dying\" units | - Keeps gradients flowing for negative inputs                    |\n",
    "| **Sigmoid/Tanh Activation**| Smoother nonlinearities (legacy use)   | - Historically used<br>- Often cause vanishing gradients         |\n",
    "| **Learning Rate (↑)**     | Larger updates                         | - Speeds up training<br>- Can become unstable if too high         |\n",
    "| **Learning Rate (↓)**     | Smaller updates                        | - More stable<br>- Slower convergence, risk of getting stuck      |\n",
    "| **More Layers**            | Deeper architecture                    | - Learns complex patterns<br>- Risk of overfitting, needs regularization |\n",
    "| **More Neurons**           | Wider architecture                     | - Higher capacity<br>- Increases memory and compute cost         |\n"
   ]
  },
  {
   "cell_type": "markdown",
   "id": "43a11f3c2110a4a7",
   "metadata": {},
   "source": [
    "### 3.2.5 Evaluation on the test set\n",
    "You have now tuned the model hypterparameters to achieve the best accuracy on the test set.\n",
    "- Why can it become problematic to tune hyperparameters on the test set? What are possible solutions to keep this overfitting in check?"
   ]
  },
  {
   "cell_type": "markdown",
   "id": "02646535",
   "metadata": {},
   "source": []
  },
  {
   "cell_type": "markdown",
   "id": "18dd7575",
   "metadata": {},
   "source": [
    "If we tune the hyperparameters (e.g., learning rate, number of layers, dropout rate) based on how well the model performs on the test set, we are actually using the test set as if it were training data, which is gradually leaking information from the test set into the model and can cause overfitting to the test set. It's like \"cheating\" on the final exam by using the answers to adjust your study strategy. It#s better if we do: Train → Validate → Tune → Retrain → Test  with the original training data splitted into a smaller training set and a validation set. Tune hyperparameters only on the validation set, and use the test set once, at the end."
   ]
  }
 ],
 "metadata": {
  "kernelspec": {
   "display_name": "mlfp",
   "language": "python",
   "name": "python3"
  },
  "language_info": {
   "codemirror_mode": {
    "name": "ipython",
    "version": 3
   },
   "file_extension": ".py",
   "mimetype": "text/x-python",
   "name": "python",
   "nbconvert_exporter": "python",
   "pygments_lexer": "ipython3",
   "version": "3.12.0"
  }
 },
 "nbformat": 4,
 "nbformat_minor": 5
}
